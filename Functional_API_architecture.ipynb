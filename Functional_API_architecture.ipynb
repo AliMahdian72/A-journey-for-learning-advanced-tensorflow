{
  "nbformat": 4,
  "nbformat_minor": 0,
  "metadata": {
    "colab": {
      "name": "Functional_API_architecture.ipynb",
      "provenance": [],
      "authorship_tag": "ABX9TyPF9iiaJhBZ3c/7RsED6MB7",
      "include_colab_link": true
    },
    "kernelspec": {
      "name": "python3",
      "display_name": "Python 3"
    },
    "language_info": {
      "name": "python"
    }
  },
  "cells": [
    {
      "cell_type": "markdown",
      "metadata": {
        "id": "view-in-github",
        "colab_type": "text"
      },
      "source": [
        "<a href=\"https://colab.research.google.com/github/armeh429/A-journey-for-learning-advanced-tensorflow/blob/main/Functional_API_architecture.ipynb\" target=\"_parent\"><img src=\"https://colab.research.google.com/assets/colab-badge.svg\" alt=\"Open In Colab\"/></a>"
      ]
    },
    {
      "cell_type": "code",
      "metadata": {
        "id": "136bQ3MvJdE4"
      },
      "source": [
        "try:\n",
        "  %tensorflow_version 2.x\n",
        "except Exception :\n",
        "  pass"
      ],
      "execution_count": 1,
      "outputs": []
    },
    {
      "cell_type": "code",
      "metadata": {
        "id": "UeYK02kuOhzq"
      },
      "source": [
        "import tensorflow as tf\n",
        "from tensorflow.keras.layers import Input\n",
        "from tensorflow.keras.layers import Dense , Flatten\n",
        "from tensorflow.keras.models import  Model"
      ],
      "execution_count": 3,
      "outputs": []
    },
    {
      "cell_type": "markdown",
      "metadata": {
        "id": "_XzhU5RyRO-G"
      },
      "source": [
        "functional API  contain three section :\n",
        "1. input \n",
        "2. layers\n",
        "3. model"
      ]
    },
    {
      "cell_type": "code",
      "metadata": {
        "id": "jLeYN_giOrTo"
      },
      "source": [
        "def build_model_with_function():\n",
        "  input_layer = tf.keras.Input(shape=(28,28))\n",
        "  flatten_layer = tf.keras.layers.Flatten()(input_layer)\n",
        "  first_dense = tf.keras.layers.Dense(128,activation=tf.nn.relu)(flatten_layer)\n",
        "  output_layer = tf.keras.layers.Dense(10 , activation=tf.nn.softmax)(first_dense)\n",
        "  func_model = Model(inputs = input_layer , outputs = output_layer)\n",
        "  return func_model"
      ],
      "execution_count": 5,
      "outputs": []
    },
    {
      "cell_type": "code",
      "metadata": {
        "id": "OaTexn__Q0Qc"
      },
      "source": [
        ""
      ],
      "execution_count": null,
      "outputs": []
    }
  ]
}